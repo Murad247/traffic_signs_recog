{
 "cells": [
  {
   "cell_type": "code",
   "execution_count": 1,
   "id": "c17326e4",
   "metadata": {},
   "outputs": [],
   "source": [
    "import pandas as pd \n",
    "import numpy as np\n",
    "import glob\n",
    "from tqdm import tqdm\n",
    "import cv2\n",
    "from sklearn.model_selection import train_test_split\n",
    "import os\n",
    "\n",
    "os.environ['CUDA_LAUNCH_BLOCKING'] = \"1\"\n",
    "\n",
    "import torch\n",
    "import torch.nn as nn\n",
    "import torch.optim as optim\n",
    "from torch.utils.data import Dataset\n",
    "from torchvision import datasets, models, transforms\n",
    "from torchvision.models import resnet18\n",
    "\n",
    "from PIL import Image\n",
    "import matplotlib.pyplot as plt\n",
    "from IPython.display import clear_output\n",
    "from pytorch_pretrained_vit import ViT\n",
    "\n",
    "\n",
    "if os.path.isdir('models'): # Если вы скачали и разархивировали предложенный zip-архив, он будет использоваться по умолчанию\n",
    "    path = 'models'\n",
    "else:\n",
    "    path = 'trained_models'"
   ]
  },
  {
   "cell_type": "code",
   "execution_count": 2,
   "id": "91535370",
   "metadata": {},
   "outputs": [],
   "source": [
    "size = 384\n",
    "\n",
    "class TestDataset(Dataset):\n",
    "    def __init__(self, data_df, transform=None):\n",
    "\n",
    "        self.data_df = data_df\n",
    "        self.transform = transform\n",
    "\n",
    "    def __getitem__(self, idx):\n",
    "        # достаем имя изображения и ее лейбл\n",
    "        image_name = self.data_df.iloc[idx]['img']\n",
    "        # читаем картинку. read the image\n",
    "        image = cv2.imread(f\"/media/murad/SSD/krasn/test_dataset_test_/test/{image_name}\")\n",
    "        image = cv2.cvtColor(image, cv2.COLOR_BGR2RGB)\n",
    "        image = Image.fromarray(image)\n",
    "        \n",
    "        # преобразуем, если нужно. transform it, if necessary\n",
    "        if self.transform:\n",
    "            image = self.transform(image)\n",
    "        \n",
    "        return image\n",
    "    \n",
    "    def __len__(self):\n",
    "        return len(self.data_df)\n",
    "    \n",
    "    \n",
    "test_transform = transforms.Compose([\n",
    "    transforms.Resize((size, size)),\n",
    "    #transforms.RandomResizedCrop(224),\n",
    "    transforms.ToTensor(),\n",
    "    transforms.Normalize(mean=[0.485, 0.456, 0.406],\n",
    "                          std=[0.229, 0.224, 0.225]),\n",
    "])\n",
    "\n",
    "# читаем датасет\n",
    "test_df = pd.read_csv(\"/media/murad/SSD/krasn/test_dataset_test_/test.csv\")\n",
    "\n",
    "test_dataset = TestDataset(test_df, test_transform)\n",
    "\n",
    "test_loader = torch.utils.data.DataLoader(dataset=test_dataset,\n",
    "                                           batch_size=1,\n",
    "                                           # shuffle=True,\n",
    "                                           pin_memory=True,\n",
    "                                           num_workers=8)"
   ]
  },
  {
   "cell_type": "code",
   "execution_count": 3,
   "id": "5750f91e",
   "metadata": {
    "scrolled": true
   },
   "outputs": [
    {
     "name": "stdout",
     "output_type": "stream",
     "text": [
      "Loaded pretrained weights.\n"
     ]
    },
    {
     "name": "stderr",
     "output_type": "stream",
     "text": [
      "100%|█████████████████████████████████████████| 388/388 [00:09<00:00, 41.02it/s]\n"
     ]
    }
   ],
   "source": [
    "name_sign = 'sing1'\n",
    "\n",
    "model = ViT('L_32_imagenet1k', pretrained=True)\n",
    "model.fc = nn.Linear(1024, 70)\n",
    "\n",
    "model = model.cuda()\n",
    "\n",
    "model.eval()\n",
    "criterion = torch.nn.CrossEntropyLoss()\n",
    "model.load_state_dict(torch.load(f'{path}/model_{name_sign}.pth'))\n",
    "# model.load_state_dict(torch.load(f'new/model_sing1_new.pth'))\n",
    "\n",
    "\n",
    "model.eval()\n",
    "model1_predicts = []\n",
    "\n",
    "for imgs in tqdm(test_loader):\n",
    "    imgs = imgs.cuda()\n",
    "    pred = model(imgs)\n",
    "\n",
    "    pred_numpy = pred.cpu().detach().numpy()\n",
    "#     print(pred_nump6y.shape)\n",
    "    for class_obj in pred_numpy:\n",
    "      index, max_value = max(enumerate(class_obj), key=lambda i_v: i_v[1])\n",
    "      model1_predicts.append(index)"
   ]
  },
  {
   "cell_type": "code",
   "execution_count": 4,
   "id": "ee66ef39",
   "metadata": {},
   "outputs": [
    {
     "name": "stdout",
     "output_type": "stream",
     "text": [
      "Loaded pretrained weights.\n"
     ]
    },
    {
     "name": "stderr",
     "output_type": "stream",
     "text": [
      "  0%|                                                   | 0/388 [00:00<?, ?it/s][W pthreadpool-cpp.cc:90] Warning: Leaking Caffe2 thread-pool after fork. (function pthreadpool)\n",
      "[W pthreadpool-cpp.cc:90] Warning: Leaking Caffe2 thread-pool after fork. (function pthreadpool)\n",
      "[W pthreadpool-cpp.cc:90] Warning: Leaking Caffe2 thread-pool after fork. (function pthreadpool)\n",
      "[W pthreadpool-cpp.cc:90] Warning: Leaking Caffe2 thread-pool after fork. (function pthreadpool)\n",
      "[W pthreadpool-cpp.cc:90] Warning: Leaking Caffe2 thread-pool after fork. (function pthreadpool)\n",
      "[W pthreadpool-cpp.cc:90] Warning: Leaking Caffe2 thread-pool after fork. (function pthreadpool)\n",
      "[W pthreadpool-cpp.cc:90] Warning: Leaking Caffe2 thread-pool after fork. (function pthreadpool)\n",
      "[W pthreadpool-cpp.cc:90] Warning: Leaking Caffe2 thread-pool after fork. (function pthreadpool)\n",
      "100%|████████████████████████████████████████▉| 387/388 [00:09<00:00, 42.92it/s][W pthreadpool-cpp.cc:90] Warning: Leaking Caffe2 thread-pool after fork. (function pthreadpool)\n",
      "[W pthreadpool-cpp.cc:90] Warning: Leaking Caffe2 thread-pool after fork. (function pthreadpool)\n",
      "100%|█████████████████████████████████████████| 388/388 [00:09<00:00, 40.55it/s]\n"
     ]
    }
   ],
   "source": [
    "name_sign = 'sing2'\n",
    "model = ViT('L_32_imagenet1k', pretrained=True)\n",
    "model.fc = nn.Linear(1024, 70)\n",
    "\n",
    "model = model.cuda()\n",
    "model.load_state_dict(torch.load(f'{path}/model_{name_sign}.pth'))\n",
    "\n",
    "model.eval()\n",
    "criterion = torch.nn.CrossEntropyLoss()\n",
    "\n",
    "model2_predicts = []\n",
    "\n",
    "for imgs in tqdm(test_loader):\n",
    "    imgs = imgs.cuda()\n",
    "    pred = model(imgs)\n",
    "\n",
    "    pred_numpy = pred.cpu().detach().numpy()\n",
    "#     print(pred_nump6y.shape)\n",
    "    for class_obj in pred_numpy:\n",
    "      index, max_value = max(enumerate(class_obj), key=lambda i_v: i_v[1])\n",
    "      model2_predicts.append(index)"
   ]
  },
  {
   "cell_type": "code",
   "execution_count": 5,
   "id": "6fd16d8d",
   "metadata": {},
   "outputs": [
    {
     "name": "stdout",
     "output_type": "stream",
     "text": [
      "Loaded pretrained weights.\n"
     ]
    },
    {
     "name": "stderr",
     "output_type": "stream",
     "text": [
      "  0%|                                                   | 0/388 [00:00<?, ?it/s][W pthreadpool-cpp.cc:90] Warning: Leaking Caffe2 thread-pool after fork. (function pthreadpool)\n",
      "[W pthreadpool-cpp.cc:90] Warning: Leaking Caffe2 thread-pool after fork. (function pthreadpool)\n",
      "[W pthreadpool-cpp.cc:90] Warning: Leaking Caffe2 thread-pool after fork. (function pthreadpool)\n",
      "[W pthreadpool-cpp.cc:90] Warning: Leaking Caffe2 thread-pool after fork. (function pthreadpool)\n",
      "[W pthreadpool-cpp.cc:90] Warning: Leaking Caffe2 thread-pool after fork. (function pthreadpool)\n",
      "[W pthreadpool-cpp.cc:90] Warning: Leaking Caffe2 thread-pool after fork. (function pthreadpool)\n",
      "[W pthreadpool-cpp.cc:90] Warning: Leaking Caffe2 thread-pool after fork. (function pthreadpool)\n",
      "[W pthreadpool-cpp.cc:90] Warning: Leaking Caffe2 thread-pool after fork. (function pthreadpool)\n",
      " 99%|████████████████████████████████████████▌| 384/388 [00:09<00:00, 43.74it/s][W pthreadpool-cpp.cc:90] Warning: Leaking Caffe2 thread-pool after fork. (function pthreadpool)\n",
      "[W pthreadpool-cpp.cc:90] Warning: Leaking Caffe2 thread-pool after fork. (function pthreadpool)\n",
      "[W pthreadpool-cpp.cc:90] Warning: Leaking Caffe2 thread-pool after fork. (function pthreadpool)\n",
      "[W pthreadpool-cpp.cc:90] Warning: Leaking Caffe2 thread-pool after fork. (function pthreadpool)\n",
      "[W pthreadpool-cpp.cc:90] Warning: Leaking Caffe2 thread-pool after fork. (function pthreadpool)\n",
      "[W pthreadpool-cpp.cc:90] Warning: Leaking Caffe2 thread-pool after fork. (function pthreadpool)\n",
      "100%|█████████████████████████████████████████| 388/388 [00:09<00:00, 40.99it/s]\n"
     ]
    }
   ],
   "source": [
    "name_sign = 'sing3'\n",
    "model = ViT('L_32_imagenet1k', pretrained=True)\n",
    "model.fc = nn.Linear(1024, 70)\n",
    "\n",
    "model = model.cuda()\n",
    "model.load_state_dict(torch.load(f'{path}/model_{name_sign}.pt'))\n",
    "\n",
    "model.eval()\n",
    "model3_predicts = []\n",
    "\n",
    "for imgs in tqdm(test_loader):\n",
    "    imgs = imgs.cuda()\n",
    "    pred = model(imgs)\n",
    "\n",
    "    pred_numpy = pred.cpu().detach().numpy()\n",
    "#     print(pred_nump6y.shape)\n",
    "    for class_obj in pred_numpy:\n",
    "      index, max_value = max(enumerate(class_obj), key=lambda i_v: i_v[1])\n",
    "      model3_predicts.append(index)"
   ]
  },
  {
   "cell_type": "code",
   "execution_count": 6,
   "id": "dbc64da4",
   "metadata": {},
   "outputs": [
    {
     "name": "stdout",
     "output_type": "stream",
     "text": [
      "Loaded pretrained weights.\n"
     ]
    },
    {
     "name": "stderr",
     "output_type": "stream",
     "text": [
      "  0%|                                                   | 0/388 [00:00<?, ?it/s][W pthreadpool-cpp.cc:90] Warning: Leaking Caffe2 thread-pool after fork. (function pthreadpool)\n",
      "[W pthreadpool-cpp.cc:90] Warning: Leaking Caffe2 thread-pool after fork. (function pthreadpool)\n",
      "[W pthreadpool-cpp.cc:90] Warning: Leaking Caffe2 thread-pool after fork. (function pthreadpool)\n",
      "[W pthreadpool-cpp.cc:90] Warning: Leaking Caffe2 thread-pool after fork. (function pthreadpool)\n",
      "[W pthreadpool-cpp.cc:90] Warning: Leaking Caffe2 thread-pool after fork. (function pthreadpool)\n",
      "[W pthreadpool-cpp.cc:90] Warning: Leaking Caffe2 thread-pool after fork. (function pthreadpool)\n",
      "[W pthreadpool-cpp.cc:90] Warning: Leaking Caffe2 thread-pool after fork. (function pthreadpool)\n",
      "[W pthreadpool-cpp.cc:90] Warning: Leaking Caffe2 thread-pool after fork. (function pthreadpool)\n",
      " 99%|████████████████████████████████████████▊| 386/388 [00:09<00:00, 43.02it/s][W pthreadpool-cpp.cc:90] Warning: Leaking Caffe2 thread-pool after fork. (function pthreadpool)\n",
      "[W pthreadpool-cpp.cc:90] Warning: Leaking Caffe2 thread-pool after fork. (function pthreadpool)\n",
      "[W pthreadpool-cpp.cc:90] Warning: Leaking Caffe2 thread-pool after fork. (function pthreadpool)\n",
      "100%|█████████████████████████████████████████| 388/388 [00:09<00:00, 40.39it/s]\n"
     ]
    }
   ],
   "source": [
    "name_sign = 'sing4'\n",
    "model = ViT('L_32_imagenet1k', pretrained=True)\n",
    "model.fc = nn.Linear(1024, 70)\n",
    "\n",
    "model = model.cuda()\n",
    "model.load_state_dict(torch.load(f'{path}/model_{name_sign}.pt'))\n",
    "\n",
    "model.eval()\n",
    "model4_predicts = []\n",
    "\n",
    "for imgs in tqdm(test_loader):\n",
    "    imgs = imgs.cuda()\n",
    "    pred = model(imgs)\n",
    "\n",
    "    pred_numpy = pred.cpu().detach().numpy()\n",
    "#     print(pred_nump6y.shape)\n",
    "    for class_obj in pred_numpy:\n",
    "      index, max_value = max(enumerate(class_obj), key=lambda i_v: i_v[1])\n",
    "      model4_predicts.append(index)"
   ]
  },
  {
   "cell_type": "code",
   "execution_count": 7,
   "id": "4eb169d9",
   "metadata": {},
   "outputs": [
    {
     "name": "stdout",
     "output_type": "stream",
     "text": [
      "Loaded pretrained weights.\n"
     ]
    },
    {
     "name": "stderr",
     "output_type": "stream",
     "text": [
      "  0%|                                                   | 0/388 [00:00<?, ?it/s][W pthreadpool-cpp.cc:90] Warning: Leaking Caffe2 thread-pool after fork. (function pthreadpool)\n",
      "[W pthreadpool-cpp.cc:90] Warning: Leaking Caffe2 thread-pool after fork. (function pthreadpool)\n",
      "[W pthreadpool-cpp.cc:90] Warning: Leaking Caffe2 thread-pool after fork. (function pthreadpool)\n",
      "[W pthreadpool-cpp.cc:90] Warning: Leaking Caffe2 thread-pool after fork. (function pthreadpool)\n",
      "[W pthreadpool-cpp.cc:90] Warning: Leaking Caffe2 thread-pool after fork. (function pthreadpool)\n",
      "[W pthreadpool-cpp.cc:90] Warning: Leaking Caffe2 thread-pool after fork. (function pthreadpool)\n",
      "[W pthreadpool-cpp.cc:90] Warning: Leaking Caffe2 thread-pool after fork. (function pthreadpool)\n",
      "[W pthreadpool-cpp.cc:90] Warning: Leaking Caffe2 thread-pool after fork. (function pthreadpool)\n",
      " 99%|████████████████████████████████████████▊| 386/388 [00:09<00:00, 42.24it/s][W pthreadpool-cpp.cc:90] Warning: Leaking Caffe2 thread-pool after fork. (function pthreadpool)\n",
      "[W pthreadpool-cpp.cc:90] Warning: Leaking Caffe2 thread-pool after fork. (function pthreadpool)\n",
      "[W pthreadpool-cpp.cc:90] Warning: Leaking Caffe2 thread-pool after fork. (function pthreadpool)\n",
      "[W pthreadpool-cpp.cc:90] Warning: Leaking Caffe2 thread-pool after fork. (function pthreadpool)\n",
      "100%|█████████████████████████████████████████| 388/388 [00:09<00:00, 40.71it/s]\n"
     ]
    }
   ],
   "source": [
    "name_sign = 'sing5'\n",
    "model = ViT('L_32_imagenet1k', pretrained=True)\n",
    "model.fc = nn.Linear(1024, 70)\n",
    "\n",
    "model = model.cuda()\n",
    "model.load_state_dict(torch.load(f'{path}/model_{name_sign}.pt'))\n",
    "\n",
    "model.eval()\n",
    "criterion = torch.nn.CrossEntropyLoss()\n",
    "\n",
    "model5_predicts = []\n",
    "\n",
    "for imgs in tqdm(test_loader):\n",
    "    imgs = imgs.cuda()\n",
    "    pred = model(imgs)\n",
    "\n",
    "    pred_numpy = pred.cpu().detach().numpy()\n",
    "#     print(pred_nump6y.shape)\n",
    "    for class_obj in pred_numpy:\n",
    "      index, max_value = max(enumerate(class_obj), key=lambda i_v: i_v[1])\n",
    "      model5_predicts.append(index)"
   ]
  },
  {
   "cell_type": "code",
   "execution_count": 9,
   "id": "4d09ce0c",
   "metadata": {},
   "outputs": [
    {
     "data": {
      "text/plain": [
       "0"
      ]
     },
     "execution_count": 9,
     "metadata": {},
     "output_type": "execute_result"
    }
   ],
   "source": [
    "model = 0\n",
    "model"
   ]
  },
  {
   "cell_type": "code",
   "execution_count": 8,
   "id": "920e667c",
   "metadata": {},
   "outputs": [
    {
     "name": "stdout",
     "output_type": "stream",
     "text": [
      "Loaded pretrained weights.\n"
     ]
    },
    {
     "name": "stderr",
     "output_type": "stream",
     "text": [
      "  0%|                                                   | 0/388 [00:00<?, ?it/s][W pthreadpool-cpp.cc:90] Warning: Leaking Caffe2 thread-pool after fork. (function pthreadpool)\n",
      "[W pthreadpool-cpp.cc:90] Warning: Leaking Caffe2 thread-pool after fork. (function pthreadpool)\n",
      "[W pthreadpool-cpp.cc:90] Warning: Leaking Caffe2 thread-pool after fork. (function pthreadpool)\n",
      "[W pthreadpool-cpp.cc:90] Warning: Leaking Caffe2 thread-pool after fork. (function pthreadpool)\n",
      "[W pthreadpool-cpp.cc:90] Warning: Leaking Caffe2 thread-pool after fork. (function pthreadpool)\n",
      "[W pthreadpool-cpp.cc:90] Warning: Leaking Caffe2 thread-pool after fork. (function pthreadpool)\n",
      "[W pthreadpool-cpp.cc:90] Warning: Leaking Caffe2 thread-pool after fork. (function pthreadpool)\n",
      "[W pthreadpool-cpp.cc:90] Warning: Leaking Caffe2 thread-pool after fork. (function pthreadpool)\n",
      "100%|█████████████████████████████████████████| 388/388 [00:09<00:00, 44.74it/s][W pthreadpool-cpp.cc:90] Warning: Leaking Caffe2 thread-pool after fork. (function pthreadpool)\n",
      "[W pthreadpool-cpp.cc:90] Warning: Leaking Caffe2 thread-pool after fork. (function pthreadpool)\n",
      "[W pthreadpool-cpp.cc:90] Warning: Leaking Caffe2 thread-pool after fork. (function pthreadpool)\n",
      "[W pthreadpool-cpp.cc:90] Warning: Leaking Caffe2 thread-pool after fork. (function pthreadpool)\n",
      "[W pthreadpool-cpp.cc:90] Warning: Leaking Caffe2 thread-pool after fork. (function pthreadpool)\n",
      "100%|█████████████████████████████████████████| 388/388 [00:09<00:00, 41.24it/s]\n"
     ]
    }
   ],
   "source": [
    "name_sign = 'sing6'\n",
    "model = ViT('L_32_imagenet1k', pretrained=True)\n",
    "model.fc = nn.Linear(1024, 70)\n",
    "\n",
    "model = model.cuda()\n",
    "model.load_state_dict(torch.load(f'{path}/model_{name_sign}.pt'))\n",
    "\n",
    "model.eval()\n",
    "model6_predicts = []\n",
    "\n",
    "for imgs in tqdm(test_loader):\n",
    "    imgs = imgs.cuda()\n",
    "    pred = model(imgs)\n",
    "\n",
    "    pred_numpy = pred.cpu().detach().numpy()\n",
    "#     print(pred_nump6y.shape)\n",
    "    for class_obj in pred_numpy:\n",
    "      index, max_value = max(enumerate(class_obj), key=lambda i_v: i_v[1])\n",
    "      model6_predicts.append(index)"
   ]
  },
  {
   "cell_type": "code",
   "execution_count": 9,
   "id": "7805145d",
   "metadata": {},
   "outputs": [
    {
     "data": {
      "text/html": [
       "<div>\n",
       "<style scoped>\n",
       "    .dataframe tbody tr th:only-of-type {\n",
       "        vertical-align: middle;\n",
       "    }\n",
       "\n",
       "    .dataframe tbody tr th {\n",
       "        vertical-align: top;\n",
       "    }\n",
       "\n",
       "    .dataframe thead th {\n",
       "        text-align: right;\n",
       "    }\n",
       "</style>\n",
       "<table border=\"1\" class=\"dataframe\">\n",
       "  <thead>\n",
       "    <tr style=\"text-align: right;\">\n",
       "      <th></th>\n",
       "      <th>id</th>\n",
       "      <th>sing1</th>\n",
       "      <th>sing2</th>\n",
       "      <th>sing3</th>\n",
       "      <th>sing4</th>\n",
       "      <th>sing5</th>\n",
       "      <th>sing6</th>\n",
       "      <th>sing7</th>\n",
       "      <th>sing8</th>\n",
       "    </tr>\n",
       "  </thead>\n",
       "  <tbody>\n",
       "    <tr>\n",
       "      <th>0</th>\n",
       "      <td>754</td>\n",
       "      <td>22</td>\n",
       "      <td>31</td>\n",
       "      <td>0</td>\n",
       "      <td>0</td>\n",
       "      <td>0</td>\n",
       "      <td>0</td>\n",
       "      <td>0</td>\n",
       "      <td>0</td>\n",
       "    </tr>\n",
       "    <tr>\n",
       "      <th>1</th>\n",
       "      <td>29</td>\n",
       "      <td>8</td>\n",
       "      <td>0</td>\n",
       "      <td>0</td>\n",
       "      <td>0</td>\n",
       "      <td>0</td>\n",
       "      <td>0</td>\n",
       "      <td>0</td>\n",
       "      <td>0</td>\n",
       "    </tr>\n",
       "    <tr>\n",
       "      <th>2</th>\n",
       "      <td>1157</td>\n",
       "      <td>8</td>\n",
       "      <td>0</td>\n",
       "      <td>0</td>\n",
       "      <td>0</td>\n",
       "      <td>0</td>\n",
       "      <td>0</td>\n",
       "      <td>0</td>\n",
       "      <td>0</td>\n",
       "    </tr>\n",
       "    <tr>\n",
       "      <th>3</th>\n",
       "      <td>1049</td>\n",
       "      <td>8</td>\n",
       "      <td>4</td>\n",
       "      <td>5</td>\n",
       "      <td>0</td>\n",
       "      <td>0</td>\n",
       "      <td>0</td>\n",
       "      <td>0</td>\n",
       "      <td>0</td>\n",
       "    </tr>\n",
       "    <tr>\n",
       "      <th>4</th>\n",
       "      <td>715</td>\n",
       "      <td>8</td>\n",
       "      <td>4</td>\n",
       "      <td>5</td>\n",
       "      <td>0</td>\n",
       "      <td>0</td>\n",
       "      <td>0</td>\n",
       "      <td>0</td>\n",
       "      <td>0</td>\n",
       "    </tr>\n",
       "    <tr>\n",
       "      <th>...</th>\n",
       "      <td>...</td>\n",
       "      <td>...</td>\n",
       "      <td>...</td>\n",
       "      <td>...</td>\n",
       "      <td>...</td>\n",
       "      <td>...</td>\n",
       "      <td>...</td>\n",
       "      <td>...</td>\n",
       "      <td>...</td>\n",
       "    </tr>\n",
       "    <tr>\n",
       "      <th>383</th>\n",
       "      <td>243</td>\n",
       "      <td>28</td>\n",
       "      <td>29</td>\n",
       "      <td>0</td>\n",
       "      <td>0</td>\n",
       "      <td>0</td>\n",
       "      <td>0</td>\n",
       "      <td>0</td>\n",
       "      <td>0</td>\n",
       "    </tr>\n",
       "    <tr>\n",
       "      <th>384</th>\n",
       "      <td>921</td>\n",
       "      <td>8</td>\n",
       "      <td>0</td>\n",
       "      <td>5</td>\n",
       "      <td>4</td>\n",
       "      <td>0</td>\n",
       "      <td>0</td>\n",
       "      <td>0</td>\n",
       "      <td>0</td>\n",
       "    </tr>\n",
       "    <tr>\n",
       "      <th>385</th>\n",
       "      <td>881</td>\n",
       "      <td>8</td>\n",
       "      <td>0</td>\n",
       "      <td>0</td>\n",
       "      <td>0</td>\n",
       "      <td>0</td>\n",
       "      <td>0</td>\n",
       "      <td>0</td>\n",
       "      <td>0</td>\n",
       "    </tr>\n",
       "    <tr>\n",
       "      <th>386</th>\n",
       "      <td>503</td>\n",
       "      <td>8</td>\n",
       "      <td>0</td>\n",
       "      <td>0</td>\n",
       "      <td>0</td>\n",
       "      <td>0</td>\n",
       "      <td>0</td>\n",
       "      <td>0</td>\n",
       "      <td>0</td>\n",
       "    </tr>\n",
       "    <tr>\n",
       "      <th>387</th>\n",
       "      <td>599</td>\n",
       "      <td>1</td>\n",
       "      <td>2</td>\n",
       "      <td>0</td>\n",
       "      <td>0</td>\n",
       "      <td>0</td>\n",
       "      <td>0</td>\n",
       "      <td>0</td>\n",
       "      <td>0</td>\n",
       "    </tr>\n",
       "  </tbody>\n",
       "</table>\n",
       "<p>388 rows × 9 columns</p>\n",
       "</div>"
      ],
      "text/plain": [
       "       id  sing1  sing2  sing3  sing4  sing5  sing6  sing7  sing8\n",
       "0     754     22     31      0      0      0      0      0      0\n",
       "1      29      8      0      0      0      0      0      0      0\n",
       "2    1157      8      0      0      0      0      0      0      0\n",
       "3    1049      8      4      5      0      0      0      0      0\n",
       "4     715      8      4      5      0      0      0      0      0\n",
       "..    ...    ...    ...    ...    ...    ...    ...    ...    ...\n",
       "383   243     28     29      0      0      0      0      0      0\n",
       "384   921      8      0      5      4      0      0      0      0\n",
       "385   881      8      0      0      0      0      0      0      0\n",
       "386   503      8      0      0      0      0      0      0      0\n",
       "387   599      1      2      0      0      0      0      0      0\n",
       "\n",
       "[388 rows x 9 columns]"
      ]
     },
     "execution_count": 9,
     "metadata": {},
     "output_type": "execute_result"
    }
   ],
   "source": [
    "df = pd.DataFrame()\n",
    "df['id'] = test_df['id']\n",
    "df['sing1'] = model1_predicts\n",
    "df['sing2'] = model2_predicts\n",
    "df['sing3'] = model3_predicts\n",
    "df['sing4'] = model4_predicts\n",
    "df['sing5'] = model5_predicts\n",
    "df['sing6'] = model6_predicts\n",
    "df['sing7'] = [0 for i in range(len(model1_predicts))]\n",
    "df['sing8'] = [0 for i in range(len(model1_predicts))]\n",
    "df"
   ]
  },
  {
   "cell_type": "code",
   "execution_count": 12,
   "id": "a544df04",
   "metadata": {},
   "outputs": [],
   "source": [
    "# columns = list(df.columns)[1:]\n",
    "# for i, row in df.iterrows():\n",
    "#     row = list(set(row[1:]))\n",
    "#     if 0 in row:\n",
    "#         del row[row.index(0)]\n",
    "#     while len(row) < 8:\n",
    "#         row.append(0)\n",
    "        \n",
    "#     print(list(row))\n",
    "#     for j in range(len(row)):\n",
    "#         df[columns[j]][i] = row[j]\n"
   ]
  },
  {
   "cell_type": "code",
   "execution_count": 10,
   "id": "21ffe5d8",
   "metadata": {},
   "outputs": [],
   "source": [
    "df.to_csv('predict.csv', index=False)"
   ]
  },
  {
   "cell_type": "code",
   "execution_count": null,
   "id": "2fda1389",
   "metadata": {},
   "outputs": [],
   "source": []
  }
 ],
 "metadata": {
  "kernelspec": {
   "display_name": "Python 3 (ipykernel)",
   "language": "python",
   "name": "python3"
  },
  "language_info": {
   "codemirror_mode": {
    "name": "ipython",
    "version": 3
   },
   "file_extension": ".py",
   "mimetype": "text/x-python",
   "name": "python",
   "nbconvert_exporter": "python",
   "pygments_lexer": "ipython3",
   "version": "3.8.13"
  }
 },
 "nbformat": 4,
 "nbformat_minor": 5
}
